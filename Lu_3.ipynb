{
  "nbformat": 4,
  "nbformat_minor": 0,
  "metadata": {
    "colab": {
      "name": "Lu 3",
      "provenance": [],
      "collapsed_sections": []
    },
    "kernelspec": {
      "name": "python3",
      "display_name": "Python 3"
    },
    "language_info": {
      "name": "python"
    }
  },
  "cells": [
    {
      "cell_type": "code",
      "metadata": {
        "colab": {
          "base_uri": "https://localhost:8080/"
        },
        "id": "YI1k86_nrDGA",
        "outputId": "db455a6e-9d61-4311-834d-bc150c71ed4b"
      },
      "source": [
        "\n",
        "altitude=int(input(\"current location\"))\n",
        "if altitude==1000:\n",
        "  print(\"land on the plane\")\n",
        "elif altitude>1000 and altitude<5000:\n",
        "    print(\"come down to 1000ft\")\n",
        "else: \n",
        "   print(\" go around and try later\")"
      ],
      "execution_count": null,
      "outputs": [
        {
          "output_type": "stream",
          "text": [
            "current location6000\n",
            " go around and try later\n"
          ],
          "name": "stdout"
        }
      ]
    }
  ]
}