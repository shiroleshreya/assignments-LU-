{
  "nbformat": 4,
  "nbformat_minor": 0,
  "metadata": {
    "colab": {
      "name": "lu4",
      "provenance": [],
      "collapsed_sections": []
    },
    "kernelspec": {
      "name": "python3",
      "display_name": "Python 3"
    },
    "language_info": {
      "name": "python"
    }
  },
  "cells": [
    {
      "cell_type": "code",
      "metadata": {
        "colab": {
          "base_uri": "https://localhost:8080/",
          "height": 35
        },
        "id": "fXD8RLQ2B_TM",
        "outputId": "160b794a-70a3-4eca-f77a-1e9c6c029f54"
      },
      "source": [
        "def primeornot(a):\n",
        "    if a>1:\n",
        "        \n",
        "        for i in range(2,int(a/2)+1):\n",
        "            if a%i==0:\n",
        "                return(\"number is  not a prime number\")\n",
        "                break\n",
        "        return(\" number is a Prime Number\")\n",
        "    else:\n",
        "        print(\" number is a Prime Number\")\n",
        " \n",
        " \n",
        "\n",
        "primeornot( 12)"
      ],
      "execution_count": null,
      "outputs": [
        {
          "output_type": "execute_result",
          "data": {
            "application/vnd.google.colaboratory.intrinsic+json": {
              "type": "string"
            },
            "text/plain": [
              "'number is  not a prime number'"
            ]
          },
          "metadata": {
            "tags": []
          },
          "execution_count": 98
        }
      ]
    },
    {
      "cell_type": "code",
      "metadata": {
        "colab": {
          "base_uri": "https://localhost:8080/",
          "height": 35
        },
        "id": "gVfBErh9DDUp",
        "outputId": "a4ea1305-738b-4433-d8ae-fa697b0162b3"
      },
      "source": [
        "primeornot(19)"
      ],
      "execution_count": null,
      "outputs": [
        {
          "output_type": "execute_result",
          "data": {
            "application/vnd.google.colaboratory.intrinsic+json": {
              "type": "string"
            },
            "text/plain": [
              "' number is a Prime Number'"
            ]
          },
          "metadata": {
            "tags": []
          },
          "execution_count": 99
        }
      ]
    }
  ]
}